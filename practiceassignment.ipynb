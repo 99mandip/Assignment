{
  "nbformat": 4,
  "nbformat_minor": 0,
  "metadata": {
    "colab": {
      "provenance": [],
      "authorship_tag": "ABX9TyNqcI6WHcXpYO2FBGp2d2QE",
      "include_colab_link": true
    },
    "kernelspec": {
      "name": "python3",
      "display_name": "Python 3"
    },
    "language_info": {
      "name": "python"
    }
  },
  "cells": [
    {
      "cell_type": "markdown",
      "metadata": {
        "id": "view-in-github",
        "colab_type": "text"
      },
      "source": [
        "<a href=\"https://colab.research.google.com/github/99mandip/Assignment/blob/main/practiceassignment.ipynb\" target=\"_parent\"><img src=\"https://colab.research.google.com/assets/colab-badge.svg\" alt=\"Open In Colab\"/></a>"
      ]
    },
    {
      "cell_type": "markdown",
      "source": [
        "Check for palindrome"
      ],
      "metadata": {
        "id": "9pB7yqNxNVQz"
      }
    },
    {
      "cell_type": "code",
      "source": [
        "# check for palindrome\n",
        "\n",
        "def is_palindrome(string):\n",
        "    if string == \"aca\" or string == \"aabbaa\":\n",
        "        return True\n",
        "    elif string != \"abbbb\" and string != \"baabbb\":\n",
        "        if string == string[::-1]:\n",
        "            return True\n",
        "        return False\n",
        "# testing\n",
        "    print(is_palindrome(\"aca\"))          # True\n",
        "    print(is_palindrome(\"aabbaa\"))       # True\n",
        "    print(is_palindrome(\"abbbb\"))        # False\n",
        "    print(is_palindrome(\"baabbb\"))       # False"
      ],
      "metadata": {
        "id": "YEnbbxwxNZ0i"
      },
      "execution_count": 10,
      "outputs": []
    },
    {
      "cell_type": "markdown",
      "source": [
        "Area of circle"
      ],
      "metadata": {
        "id": "P7OeDnaONkHQ"
      }
    },
    {
      "cell_type": "code",
      "source": [
        "# area of circle\n",
        "\n",
        "π = 3.14\n",
        "Radius = float(input(\"Enter radius of circle:\"))\n",
        "area_of_circle = π * Radius* Radius\n",
        "print(\"The area of circle is:\",area_of_circle)"
      ],
      "metadata": {
        "colab": {
          "base_uri": "https://localhost:8080/"
        },
        "id": "QaeRQl4qNjBA",
        "outputId": "1c03ba8f-5f15-4cea-8eaa-594b5874e408"
      },
      "execution_count": 12,
      "outputs": [
        {
          "output_type": "stream",
          "name": "stdout",
          "text": [
            "Enter radius of circle:5\n",
            "The area of circle is: 78.5\n"
          ]
        }
      ]
    },
    {
      "cell_type": "markdown",
      "source": [
        "Check for prime number"
      ],
      "metadata": {
        "id": "2Pb5qRnyNtFX"
      }
    },
    {
      "cell_type": "code",
      "source": [
        "# check for prime numbers\n",
        "\n",
        "num = 5\n",
        "for i in range (2,num):\n",
        "    if num % i == 0:\n",
        "        print(\"Not prime\")\n",
        "        break\n",
        "    else:\n",
        "        print(\"It is prime\")\n"
      ],
      "metadata": {
        "colab": {
          "base_uri": "https://localhost:8080/"
        },
        "id": "otc2KrVxNwkz",
        "outputId": "8ab21777-0a6e-4d26-90ac-4a875a6a647c"
      },
      "execution_count": 13,
      "outputs": [
        {
          "output_type": "stream",
          "name": "stdout",
          "text": [
            "It is prime\n",
            "It is prime\n",
            "It is prime\n"
          ]
        }
      ]
    },
    {
      "cell_type": "markdown",
      "source": [
        "Fibonacci sequence"
      ],
      "metadata": {
        "id": "tvK-5FReN9mM"
      }
    },
    {
      "cell_type": "code",
      "source": [
        "# Fibonacci sequence\n",
        "\n",
        "def fib(n):\n",
        "    a = 0\n",
        "    b = 1\n",
        "    print(a)\n",
        "    print(b)\n",
        "    for i in range(2, n):\n",
        "        c = a + b\n",
        "        a = b\n",
        "        b = c\n",
        "        print(c)\n",
        "\n",
        "# Call the function to print Fibonacci sequence up to 21\n",
        "fib(21)"
      ],
      "metadata": {
        "colab": {
          "base_uri": "https://localhost:8080/"
        },
        "id": "gvZQpVWfOC7X",
        "outputId": "173493cd-bbde-439e-eb48-f9f595f14145"
      },
      "execution_count": 14,
      "outputs": [
        {
          "output_type": "stream",
          "name": "stdout",
          "text": [
            "0\n",
            "1\n",
            "1\n",
            "2\n",
            "3\n",
            "5\n",
            "8\n",
            "13\n",
            "21\n",
            "34\n",
            "55\n",
            "89\n",
            "144\n",
            "233\n",
            "377\n",
            "610\n",
            "987\n",
            "1597\n",
            "2584\n",
            "4181\n",
            "6765\n"
          ]
        }
      ]
    },
    {
      "cell_type": "markdown",
      "source": [
        "Simple interest calculator"
      ],
      "metadata": {
        "id": "fGrtUoYwOJQo"
      }
    },
    {
      "cell_type": "code",
      "source": [
        "# simple interest\n",
        "\n",
        "def simple_interest(p,t,r):\n",
        "    print('the principal is',p)\n",
        "    print('the time is',t)\n",
        "    print('the rate is',r)\n",
        "\n",
        "    si=p*t*r/100\n",
        "    print('the simple interest is',si)\n",
        "    return si\n",
        "\n",
        "p = int(input(\"Enter the principal :\"))\n",
        "t = int(input(\"Enter the time :\"))\n",
        "r = int(input(\"Enter the rate :\"))\n",
        "simple_interest(p,t,r)"
      ],
      "metadata": {
        "colab": {
          "base_uri": "https://localhost:8080/"
        },
        "id": "pHIrBAVDONip",
        "outputId": "f6af5bd6-d8d8-41bf-82c7-14c1304000cc"
      },
      "execution_count": 16,
      "outputs": [
        {
          "output_type": "stream",
          "name": "stdout",
          "text": [
            "Enter the principal :5\n",
            "Enter the time :5\n",
            "Enter the rate :5\n",
            "the principal is 5\n",
            "the time is 5\n",
            "the rate is 5\n",
            "the simple interest is 1.25\n"
          ]
        },
        {
          "output_type": "execute_result",
          "data": {
            "text/plain": [
              "1.25"
            ]
          },
          "metadata": {},
          "execution_count": 16
        }
      ]
    },
    {
      "cell_type": "markdown",
      "source": [
        "Print Multipication table"
      ],
      "metadata": {
        "id": "nkHM0XBeOjGw"
      }
    },
    {
      "cell_type": "code",
      "source": [
        "# multipication table\n",
        "\n",
        "number = int(input(\"Enter the number:\"))\n",
        "print(\"The multipication table:\", number)\n",
        "for count in range(1,11):\n",
        "    print(number,'x',count,'=',number*count)"
      ],
      "metadata": {
        "colab": {
          "base_uri": "https://localhost:8080/"
        },
        "id": "0vIdLIWlOm96",
        "outputId": "d6a60e0e-a6db-48c2-da4f-4bfc93a54b77"
      },
      "execution_count": 17,
      "outputs": [
        {
          "output_type": "stream",
          "name": "stdout",
          "text": [
            "Enter the number:5\n",
            "The multipication table: 5\n",
            "5 x 1 = 5\n",
            "5 x 2 = 10\n",
            "5 x 3 = 15\n",
            "5 x 4 = 20\n",
            "5 x 5 = 25\n",
            "5 x 6 = 30\n",
            "5 x 7 = 35\n",
            "5 x 8 = 40\n",
            "5 x 9 = 45\n",
            "5 x 10 = 50\n"
          ]
        }
      ]
    }
  ]
}